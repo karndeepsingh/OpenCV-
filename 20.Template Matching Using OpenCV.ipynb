{
 "cells": [
  {
   "cell_type": "code",
   "execution_count": 1,
   "metadata": {},
   "outputs": [],
   "source": [
    "import cv2\n",
    "import numpy as np\n",
    "img = cv2.imread(\"C:\\\\Users\\\\KARNDEEP SINGH\\\\Desktop\\\\opencv-master\\\\opencv-master\\\\samples\\\\data\\\\messi5.jpg\")\n",
    "grey_image = cv2.cvtColor(img, cv2.COLOR_BGR2GRAY)\n",
    "template = cv2.imread(\"C:\\\\Users\\\\KARNDEEP SINGH\\\\Desktop\\\\opencv-master\\\\opencv-master\\\\doc\\\\py_tutorials\\\\py_imgproc\\\\py_template_matching\\\\images\\\\messi_face.jpg\",0)\n",
    "w, h = template.shape[::-1]"
   ]
  },
  {
   "cell_type": "code",
   "execution_count": 2,
   "metadata": {},
   "outputs": [
    {
     "name": "stdout",
     "output_type": "stream",
     "text": [
      "[[-0.24663569 -0.23268636 -0.2116024  ... -0.03647315 -0.03088495\n",
      "  -0.02199894]\n",
      " [-0.22071509 -0.20804223 -0.18874882 ... -0.04720337 -0.04562704\n",
      "  -0.04027069]\n",
      " [-0.19542648 -0.18433262 -0.16611049 ... -0.05731463 -0.05999554\n",
      "  -0.05907805]\n",
      " ...\n",
      " [ 0.27279875  0.27073586  0.26887017 ...  0.02313955  0.01292261\n",
      "   0.01420074]\n",
      " [ 0.2884807   0.29745993  0.30066985 ... -0.03937317 -0.04560058\n",
      "  -0.05528776]\n",
      " [ 0.31675392  0.30737814  0.31033137 ... -0.07842574 -0.07554857\n",
      "  -0.0777139 ]]\n",
      "(array([85], dtype=int64), array([220], dtype=int64))\n"
     ]
    }
   ],
   "source": [
    "res = cv2.matchTemplate(grey_image, template, cv2.TM_CCOEFF_NORMED)\n",
    "print(res)\n",
    "threshold = 0.9\n",
    "loc = np.where(res >= threshold)\n",
    "print(loc)\n",
    "\n",
    "for pt in zip(*loc[::-1]):\n",
    "    cv2.rectangle(img, pt,(pt[0]+w, pt[1]+h), (0,0,255),2)\n",
    "\n",
    "    \n",
    "    \n",
    "cv2.imshow(\"img\",img)\n",
    "cv2.waitKey(0)\n",
    "cv2.destroyAllWindows()"
   ]
  },
  {
   "cell_type": "code",
   "execution_count": 11,
   "metadata": {},
   "outputs": [
    {
     "name": "stdout",
     "output_type": "stream",
     "text": [
      "[85] [220]\n"
     ]
    }
   ],
   "source": [
    "print(*loc)"
   ]
  }
 ],
 "metadata": {
  "kernelspec": {
   "display_name": "Python 3",
   "language": "python",
   "name": "python3"
  },
  "language_info": {
   "codemirror_mode": {
    "name": "ipython",
    "version": 3
   },
   "file_extension": ".py",
   "mimetype": "text/x-python",
   "name": "python",
   "nbconvert_exporter": "python",
   "pygments_lexer": "ipython3",
   "version": "3.7.1"
  }
 },
 "nbformat": 4,
 "nbformat_minor": 2
}
