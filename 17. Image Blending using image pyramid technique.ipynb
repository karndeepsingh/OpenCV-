{
 "cells": [
  {
   "cell_type": "code",
   "execution_count": 1,
   "metadata": {},
   "outputs": [],
   "source": [
    "import cv2\n",
    "import numpy as np"
   ]
  },
  {
   "cell_type": "code",
   "execution_count": 3,
   "metadata": {},
   "outputs": [
    {
     "name": "stdout",
     "output_type": "stream",
     "text": [
      "(512, 512, 3)\n",
      "(512, 512, 3)\n"
     ]
    }
   ],
   "source": [
    "apple = cv2.imread(\"C:\\\\Users\\\\KARNDEEP SINGH\\\\Desktop\\\\opencv-master\\\\opencv-master\\\\samples\\\\data\\\\apple.jpg\")\n",
    "orange = cv2.imread(\"C:\\\\Users\\\\KARNDEEP SINGH\\\\Desktop\\\\opencv-master\\\\opencv-master\\\\samples\\\\data\\\\orange.jpg\")\n",
    "\n",
    "#Blending the images using numpy\n",
    "apple_orange = np.hstack((apple[:, :256], orange[:, 256:]))\n",
    "\n",
    "print(apple.shape)\n",
    "print(orange.shape)\n",
    "\n",
    "cv2.imshow(\"apple\", apple)\n",
    "cv2.imshow(\"orange\", orange)\n",
    "cv2.imshow(\"apple_orange\", apple_orange)\n",
    "cv2.waitKey(0)\n",
    "cv2.destroyAllWindows()"
   ]
  },
  {
   "cell_type": "markdown",
   "metadata": {},
   "source": [
    "# Blending the Images using PYRAMID Techniques\n",
    "\n",
    "There are 5 steps invovlved in the blending with pyramid:\n",
    "\n",
    "1. Load the Two Images.\n",
    "\n",
    "2. To find the Gaussian Pyramid for 2 images\n",
    "\n",
    "3. Find the Laplacian Pyramid for the 2 images.\n",
    "\n",
    "4. Join the left and right halves of the images.\n",
    "\n",
    "5. Finally join the images and reconstruct the original images."
   ]
  },
  {
   "cell_type": "code",
   "execution_count": 10,
   "metadata": {},
   "outputs": [],
   "source": [
    "#Step-2:\n",
    "#generating gaussian pyramid for apple\n",
    "apple_copy = apple.copy()\n",
    "apple_gp = [apple_copy]\n",
    "\n",
    "for i in range(6):\n",
    "    apple_copy = cv2.pyrDown(apple_copy)\n",
    "    apple_gp.append(apple_copy)\n",
    "#     cv2.imshow(str(i), apple_copy)    \n",
    "\n",
    "#generating gaussian pyramid for orange\n",
    "orange_copy = orange.copy()\n",
    "orange_gp = [orange_copy]\n",
    "\n",
    "for i in range(6):\n",
    "    orange_copy = cv2.pyrDown(orange_copy)\n",
    "    orange_gp.append(orange_copy)"
   ]
  },
  {
   "cell_type": "code",
   "execution_count": 11,
   "metadata": {},
   "outputs": [],
   "source": [
    "# Step-3\n",
    "\n",
    "#generating laplacian pyramid for apple\n",
    "apple_copy = apple_gp[5]\n",
    "lp_apple_copy = [apple_copy]\n",
    "\n",
    "for i in range(5,0,-1):\n",
    "    gaussian_extended = cv2.pyrUp(apple_gp[i])\n",
    "    laplacian = cv2.subtract(apple_gp[i-1], gaussian_extended)\n",
    "    lp_apple_copy.append(laplacian)\n",
    "    \n",
    "\n",
    "#generating laplacian pyramid for orange    \n",
    "orange_copy = orange_gp[5]\n",
    "lp_orange_copy = [orange_copy]\n",
    "\n",
    "for i in range(5,0,-1):\n",
    "    gaussian_extended = cv2.pyrUp(orange_gp[i])\n",
    "    laplacian = cv2.subtract(orange_gp[i-1], gaussian_extended)\n",
    "    lp_orange_copy.append(laplacian)    "
   ]
  },
  {
   "cell_type": "code",
   "execution_count": 12,
   "metadata": {},
   "outputs": [],
   "source": [
    "#step-4\n",
    "\n",
    "apple_orange_pyramid = []\n",
    "n=0\n",
    "\n",
    "for apple_lp, orange_lp in zip(lp_apple_copy, lp_orange_copy):\n",
    "    n+=1\n",
    "    cols, row, ch = apple_lp.shape\n",
    "    laplacian = np.hstack((apple_lp[:, :int(cols/2)], orange_lp[:, int(cols/2):]))\n",
    "    apple_orange_pyramid.append(laplacian)\n",
    "\n",
    "\n",
    "\n",
    "    "
   ]
  },
  {
   "cell_type": "code",
   "execution_count": 14,
   "metadata": {},
   "outputs": [],
   "source": [
    "#step-5\n",
    "\n",
    "apple_orange_reconstruct = apple_orange_pyramid[0]\n",
    "\n",
    "for i in range(1,6):\n",
    "    apple_orange_reconstruct = cv2.pyrUp(apple_orange_reconstruct)\n",
    "    apple_orange_reconstruct = cv2.add(apple_orange_pyramid[i], apple_orange_reconstruct)\n",
    "\n",
    "cv2.imshow(\"apple_orange_reconstructed\", apple_orange_reconstruct)\n",
    "cv2.imshow(\"apple_orange\", apple_orange)\n",
    "cv2.waitKey(0)\n",
    "cv2.destroyAllWindows()\n",
    "    "
   ]
  }
 ],
 "metadata": {
  "kernelspec": {
   "display_name": "Python 3",
   "language": "python",
   "name": "python3"
  },
  "language_info": {
   "codemirror_mode": {
    "name": "ipython",
    "version": 3
   },
   "file_extension": ".py",
   "mimetype": "text/x-python",
   "name": "python",
   "nbconvert_exporter": "python",
   "pygments_lexer": "ipython3",
   "version": "3.7.1"
  }
 },
 "nbformat": 4,
 "nbformat_minor": 2
}
