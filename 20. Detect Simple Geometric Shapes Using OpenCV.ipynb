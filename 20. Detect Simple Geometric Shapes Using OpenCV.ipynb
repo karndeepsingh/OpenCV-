{
 "cells": [
  {
   "cell_type": "code",
   "execution_count": 2,
   "metadata": {},
   "outputs": [],
   "source": [
    "import cv2\n",
    "import numpy as np"
   ]
  },
  {
   "cell_type": "code",
   "execution_count": 6,
   "metadata": {},
   "outputs": [
    {
     "ename": "error",
     "evalue": "OpenCV(4.2.0) C:\\projects\\opencv-python\\opencv\\modules\\highgui\\src\\window.cpp:376: error: (-215:Assertion failed) size.width>0 && size.height>0 in function 'cv::imshow'\n",
     "output_type": "error",
     "traceback": [
      "\u001b[1;31m---------------------------------------------------------------------------\u001b[0m",
      "\u001b[1;31merror\u001b[0m                                     Traceback (most recent call last)",
      "\u001b[1;32m<ipython-input-6-264f95593c0e>\u001b[0m in \u001b[0;36m<module>\u001b[1;34m\u001b[0m\n\u001b[0;32m     28\u001b[0m \u001b[1;33m\u001b[0m\u001b[0m\n\u001b[0;32m     29\u001b[0m \u001b[1;33m\u001b[0m\u001b[0m\n\u001b[1;32m---> 30\u001b[1;33m \u001b[0mcv2\u001b[0m\u001b[1;33m.\u001b[0m\u001b[0mimshow\u001b[0m\u001b[1;33m(\u001b[0m\u001b[1;34m\"Shape\"\u001b[0m\u001b[1;33m,\u001b[0m \u001b[0mimg\u001b[0m\u001b[1;33m)\u001b[0m\u001b[1;33m\u001b[0m\u001b[1;33m\u001b[0m\u001b[0m\n\u001b[0m\u001b[0;32m     31\u001b[0m \u001b[0mcv2\u001b[0m\u001b[1;33m.\u001b[0m\u001b[0mwaitKey\u001b[0m\u001b[1;33m(\u001b[0m\u001b[1;36m0\u001b[0m\u001b[1;33m)\u001b[0m\u001b[1;33m\u001b[0m\u001b[1;33m\u001b[0m\u001b[0m\n\u001b[0;32m     32\u001b[0m \u001b[0mcv2\u001b[0m\u001b[1;33m.\u001b[0m\u001b[0mdestroyAllWindows\u001b[0m\u001b[1;33m(\u001b[0m\u001b[1;33m)\u001b[0m\u001b[1;33m\u001b[0m\u001b[1;33m\u001b[0m\u001b[0m\n",
      "\u001b[1;31merror\u001b[0m: OpenCV(4.2.0) C:\\projects\\opencv-python\\opencv\\modules\\highgui\\src\\window.cpp:376: error: (-215:Assertion failed) size.width>0 && size.height>0 in function 'cv::imshow'\n"
     ]
    }
   ],
   "source": [
    "img = cv2.imread(\"C:\\\\Users\\\\KARNDEEP SINGH\\\\Desktop\\\\opencv-master\\\\opencv-master\\\\samples\\\\data\\\\shapes.jpg\")\n",
    "# imggray = cv2.cvtColor(img, cv2.COLOR_BGR2GRAY)\n",
    "# _, thresh = cv2.threshold(imggray, 240,255, cv2.THRESH_BINARY)\n",
    "# contours, hierarchy = cv2.findContours(thresh, cv2.RETR_TREE, cv2.CHAIN_APPROX_NONE)\n",
    "\n",
    "\n",
    "# for contour in contours:\n",
    "#     approx = cv2.approxPolyDP(contour, 0.01*cv2.arcLength(contour, True), True) #archlength calculates the arc length\n",
    "#     cv2.drawContours(img,[approx], 0,(0,0,0),5)\n",
    "#     x = approx.ravel()[0]\n",
    "#     y = approx.ravel()[1]\n",
    "#     if len(approx) == 3:\n",
    "#         cv2.putText(img, \"Triangle\",(x,y), cv2.FONT_HERSHEY_COMPLEX, 0.5, (0,0,0))\n",
    "#     elif len(approx) == 4:\n",
    "#         x,y,w,h = cv2.boundingRect(approx)\n",
    "#         aspectRatio = float(w)/h\n",
    "#         print(aspectRatio)\n",
    "#         if aspectRatio > 0.95 and aspectRatio <=1.05:\n",
    "#             cv2.putText(img, \"Square\",(x,y), cv2.FONT_HERSHEY_COMPLEX, 0.5, (0,0,0))\n",
    "#         else:\n",
    "#             cv2.putText(img, \"Rectangle\",(x,y), cv2.FONT_HERSHEY_COMPLEX, 0.5, (0,0,0))\n",
    "#     elif len(approx) == 5:\n",
    "#         cv2.putText(img, \"Pentagon\",(x,y), cv2.FONT_HERSHEY_COMPLEX, 0.5, (0,0,0))\n",
    "#     elif len(approx) == 10:\n",
    "#         cv2.putText(img, \"Star\",(x,y), cv2.FONT_HERSHEY_COMPLEX, 0.5, (0,0,0))\n",
    "#     else:\n",
    "#         cv2.putText(img, \"Circle\",(x,y), cv2.FONT_HERSHEY_COMPLEX, 0.5, (0,0,0))\n",
    "        \n",
    "        \n",
    "cv2.imshow(\"Shape\", img)\n",
    "cv2.waitKey(0)\n",
    "cv2.destroyAllWindows()\n",
    "        "
   ]
  },
  {
   "cell_type": "code",
   "execution_count": null,
   "metadata": {},
   "outputs": [],
   "source": []
  }
 ],
 "metadata": {
  "kernelspec": {
   "display_name": "Python 3",
   "language": "python",
   "name": "python3"
  },
  "language_info": {
   "codemirror_mode": {
    "name": "ipython",
    "version": 3
   },
   "file_extension": ".py",
   "mimetype": "text/x-python",
   "name": "python",
   "nbconvert_exporter": "python",
   "pygments_lexer": "ipython3",
   "version": "3.7.1"
  }
 },
 "nbformat": 4,
 "nbformat_minor": 2
}
