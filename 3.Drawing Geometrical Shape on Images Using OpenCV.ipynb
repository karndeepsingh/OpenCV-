{
 "cells": [
  {
   "cell_type": "code",
   "execution_count": 13,
   "metadata": {},
   "outputs": [],
   "source": [
    "import cv2\n",
    "import numpy as np\n",
    "# img = cv2.imread(\"C:\\\\Users\\\\KARNDEEP SINGH\\\\Desktop\\\\opencv-master\\\\opencv-master\\\\samples\\\\data\\\\lena.jpg\", -1)\n",
    "img = np.zeros([525,525,3], np.uint8) #TO GET THE BLACK BACKGROUND IMAGE\n",
    "\n",
    "#Drawing a line\n",
    "img = cv2.line(img, (0,0), (255,255), (0,255,0), 5)\n",
    "\n",
    "#Drawing a ArrowedLine\n",
    "img = cv2.arrowedLine(img, (0,255), (255,255), (0,255,0), 5)\n",
    "\n",
    "#Drawing a Rectangle\n",
    "img = cv2.rectangle(img, (120,200), (150,255), (255,0,0), 5)\n",
    "\n",
    "#Drawing a Circle\n",
    "img = cv2.circle(img, (447,63), 63, (0,255,0), -1)\n",
    "\n",
    "#Writing A texxt on the Image\n",
    "font = cv2.FONT_HERSHEY_COMPLEX\n",
    "img = cv2.putText(img, \"OpenCV\",(10,500),font, 4, (0,255,255), 10, cv2.LINE_AA)\n",
    "\n",
    "cv2.imshow(\"image\", img)\n",
    "cv2.waitKey(5000)\n",
    "cv2.destroyAllWindows()"
   ]
  },
  {
   "cell_type": "code",
   "execution_count": null,
   "metadata": {},
   "outputs": [],
   "source": []
  }
 ],
 "metadata": {
  "kernelspec": {
   "display_name": "Python 3",
   "language": "python",
   "name": "python3"
  },
  "language_info": {
   "codemirror_mode": {
    "name": "ipython",
    "version": 3
   },
   "file_extension": ".py",
   "mimetype": "text/x-python",
   "name": "python",
   "nbconvert_exporter": "python",
   "pygments_lexer": "ipython3",
   "version": "3.7.1"
  }
 },
 "nbformat": 4,
 "nbformat_minor": 2
}
