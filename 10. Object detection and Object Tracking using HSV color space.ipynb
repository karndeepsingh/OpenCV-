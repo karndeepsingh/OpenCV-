{
 "cells": [
  {
   "cell_type": "code",
   "execution_count": 2,
   "metadata": {},
   "outputs": [],
   "source": [
    "import numpy as np\n",
    "import cv2"
   ]
  },
  {
   "cell_type": "code",
   "execution_count": 3,
   "metadata": {},
   "outputs": [],
   "source": [
    "def nothing(x):\n",
    "    print(x)"
   ]
  },
  {
   "cell_type": "code",
   "execution_count": 7,
   "metadata": {},
   "outputs": [
    {
     "name": "stdout",
     "output_type": "stream",
     "text": [
      "204\n",
      "153\n",
      "102\n",
      "51\n",
      "102\n",
      "51\n"
     ]
    }
   ],
   "source": [
    "cv2.namedWindow(\"Tracking\")\n",
    "cv2.createTrackbar(\"LH\",\"Tracking\", 0,255, nothing)\n",
    "cv2.createTrackbar(\"LS\",\"Tracking\", 0,255, nothing)\n",
    "cv2.createTrackbar(\"LV\",\"Tracking\", 0,255, nothing)\n",
    "cv2.createTrackbar(\"UH\",\"Tracking\", 255,255, nothing)\n",
    "cv2.createTrackbar(\"US\",\"Tracking\", 255,255, nothing)\n",
    "cv2.createTrackbar(\"UV\",\"Tracking\", 255,255, nothing)\n",
    "while True:\n",
    "    frame = cv2.imread(\"C:\\\\Users\\\\KARNDEEP SINGH\\\\Desktop\\\\opencv-master\\\\opencv-master\\\\samples\\\\data\\\\smarties.png\")\n",
    "    hsv =cv2.cvtColor(frame, cv2.COLOR_BGR2HSV)\n",
    "    \n",
    "    l_h = cv2.getTrackbarPos(\"LH\", \"Tracking\")\n",
    "    l_s = cv2.getTrackbarPos(\"LS\", \"Tracking\")\n",
    "    l_v = cv2.getTrackbarPos(\"LV\", \"Tracking\")\n",
    "    u_h = cv2.getTrackbarPos(\"UH\", \"Tracking\")\n",
    "    u_s= cv2.getTrackbarPos(\"US\", \"Tracking\")\n",
    "    u_v= cv2.getTrackbarPos(\"UV\", \"Tracking\")\n",
    "    \n",
    "    l_b = np.array([l_h,l_s,l_v])\n",
    "    u_b = np.array([u_h,u_s,u_v])\n",
    "    \n",
    "    mask = cv2.inRange(hsv,l_b, u_b)\n",
    "    \n",
    "    res = cv2.bitwise_and(frame, frame, mask=mask)\n",
    "    \n",
    "    cv2.imshow(\"frame\", frame)\n",
    "    cv2.imshow(\"mask\", mask)\n",
    "    cv2.imshow(\"res\", res)\n",
    "    cv2.imshow(\"hsv\" , hsv)\n",
    "    k = cv2.waitKey(1)\n",
    "    if k == 27:\n",
    "        break\n",
    "                    \n",
    "cv2.destroyAllWindows()            \n",
    "                    \n",
    "                    "
   ]
  },
  {
   "cell_type": "code",
   "execution_count": null,
   "metadata": {},
   "outputs": [],
   "source": []
  }
 ],
 "metadata": {
  "kernelspec": {
   "display_name": "Python 3",
   "language": "python",
   "name": "python3"
  },
  "language_info": {
   "codemirror_mode": {
    "name": "ipython",
    "version": 3
   },
   "file_extension": ".py",
   "mimetype": "text/x-python",
   "name": "python",
   "nbconvert_exporter": "python",
   "pygments_lexer": "ipython3",
   "version": "3.7.1"
  }
 },
 "nbformat": 4,
 "nbformat_minor": 2
}
