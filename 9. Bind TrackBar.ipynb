{
 "cells": [
  {
   "cell_type": "code",
   "execution_count": 1,
   "metadata": {},
   "outputs": [],
   "source": [
    "import cv2\n",
    "import numpy as np\n"
   ]
  },
  {
   "cell_type": "code",
   "execution_count": 9,
   "metadata": {},
   "outputs": [],
   "source": [
    "def nothing(x):\n",
    "    print(x)\n",
    "img = np.zeros((300,512,3), np.uint8)\n",
    "cv2.namedWindow(\"image\")\n",
    "cv2.createTrackbar(\"B\", \"image\",0,255,nothing)\n",
    "cv2.createTrackbar(\"G\", \"image\",0,255,nothing)\n",
    "cv2.createTrackbar(\"R\", \"image\",0,255,nothing)\n",
    "\n",
    "cv2.createTrackbar(\"Switch\", \"image\",0,1,nothing)\n",
    "\n",
    "while(1):\n",
    "    cv2.imshow(\"image\", img)\n",
    "    k = cv2.waitKey(1)\n",
    "    if k == 27:\n",
    "        break\n",
    "    b = cv2.getTrackbarPos(\"B\",\"image\")\n",
    "    g = cv2.getTrackbarPos(\"g\",\"image\")\n",
    "    r = cv2.getTrackbarPos(\"r\",\"image\")\n",
    "    s = cv2.getTrackbarPos(\"Switch\", \"image\")\n",
    "    if s == 0:\n",
    "        img[:] = 0\n",
    "    else:\n",
    "        img[:] =[b, g, r]\n",
    "cv2.destroyAllWindows()        "
   ]
  },
  {
   "cell_type": "code",
   "execution_count": null,
   "metadata": {},
   "outputs": [],
   "source": []
  }
 ],
 "metadata": {
  "kernelspec": {
   "display_name": "Python 3",
   "language": "python",
   "name": "python3"
  },
  "language_info": {
   "codemirror_mode": {
    "name": "ipython",
    "version": 3
   },
   "file_extension": ".py",
   "mimetype": "text/x-python",
   "name": "python",
   "nbconvert_exporter": "python",
   "pygments_lexer": "ipython3",
   "version": "3.7.1"
  }
 },
 "nbformat": 4,
 "nbformat_minor": 2
}
