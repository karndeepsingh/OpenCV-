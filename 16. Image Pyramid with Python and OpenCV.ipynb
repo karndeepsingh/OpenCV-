{
 "cells": [
  {
   "cell_type": "markdown",
   "metadata": {},
   "source": [
    "# There are two types of pyramid:\n",
    "    1. Gaussian PYRAMID\n",
    "    2. Laplacian PYRAMID\n",
    "    \n",
    "    These pyramids helps us to blend the images and reconstruct the images."
   ]
  },
  {
   "cell_type": "code",
   "execution_count": 1,
   "metadata": {},
   "outputs": [],
   "source": [
    "import cv2\n",
    "import numpy as np"
   ]
  },
  {
   "cell_type": "code",
   "execution_count": 2,
   "metadata": {},
   "outputs": [],
   "source": [
    "img = cv2.imread(\"C:\\\\Users\\\\KARNDEEP SINGH\\\\Desktop\\\\opencv-master\\\\opencv-master\\\\samples\\\\data\\\\lena.jpg\")"
   ]
  },
  {
   "cell_type": "code",
   "execution_count": 9,
   "metadata": {},
   "outputs": [],
   "source": [
    "pd1 = cv2.pyrDown(img)\n",
    "pd2 = cv2.pyrDown(pd1)\n",
    "pu = cv2.pyrUp(pd2)\n",
    "\n",
    "cv2.imshow(\"pydown1\", pd1)\n",
    "cv2.imshow(\"pydown2\", pd2)\n",
    "cv2.imshow(\"pyup\", pu)\n",
    "\n",
    "cv2.imshow(\"image\", img)\n",
    "cv2.waitKey(0)\n",
    "cv2.destroyAllWindows()"
   ]
  },
  {
   "cell_type": "markdown",
   "metadata": {},
   "source": [
    "# Looping Through image and forming a pyramid"
   ]
  },
  {
   "cell_type": "code",
   "execution_count": 11,
   "metadata": {},
   "outputs": [],
   "source": [
    "layer = img.copy()\n",
    "gp = [layer]\n",
    "for i in range(6):\n",
    "    layer = cv2.pyrDown(layer)\n",
    "    gp.append(layer)\n",
    "    cv2.imshow(str(i), layer)\n",
    "    \n",
    "cv2.waitKey(0)\n",
    "cv2.destroyAllWindows()\n",
    "\n",
    "    "
   ]
  },
  {
   "cell_type": "markdown",
   "metadata": {},
   "source": [
    "# We don't have special function for Laplacian Pyramid so we need to make it by ourself.\n",
    "## A level in the Laplacian Pyramid is formed by difference between that level in gaussian pyramid and expanded version of its upper level in gaussian pyramid."
   ]
  },
  {
   "cell_type": "code",
   "execution_count": 15,
   "metadata": {},
   "outputs": [],
   "source": [
    "layer = gp[5]\n",
    "cv2.imshow(\"upper level Gaussian Pyramid\", layer)\n",
    "lp = [layer]\n",
    "\n",
    "for  i in range(5,0,-1):\n",
    "    gaussian_extended = cv2.pyrUp(gp[i])\n",
    "    laplacian = cv2.subtract(gp[i-1], gaussian_extended)\n",
    "    cv2.imshow(str(i), laplacian)\n",
    "    \n",
    "cv2.imshow(\"original image\", img)\n",
    "cv2.waitKey(0)\n",
    "cv2.destroyAllWindows()"
   ]
  },
  {
   "cell_type": "code",
   "execution_count": null,
   "metadata": {},
   "outputs": [],
   "source": []
  }
 ],
 "metadata": {
  "kernelspec": {
   "display_name": "Python 3",
   "language": "python",
   "name": "python3"
  },
  "language_info": {
   "codemirror_mode": {
    "name": "ipython",
    "version": 3
   },
   "file_extension": ".py",
   "mimetype": "text/x-python",
   "name": "python",
   "nbconvert_exporter": "python",
   "pygments_lexer": "ipython3",
   "version": "3.7.1"
  }
 },
 "nbformat": 4,
 "nbformat_minor": 2
}
